{
 "cells": [
  {
   "cell_type": "code",
   "execution_count": 5,
   "metadata": {},
   "outputs": [],
   "source": [
    "import matplotlib\n",
    "matplotlib.rc(\"text\", usetex=True)\n",
    "matplotlib.rc(\"font\", family=\"serif\")\n",
    "import matplotlib.pyplot as plt\n",
    "import matplotlib.colors as colors\n",
    "\n",
    "import numpy as np\n",
    "from mpl_toolkits.axes_grid1 import make_axes_locatable\n",
    "import h5py\n",
    "import os\n",
    "import sys\n",
    "sys.path.append('.')\n",
    "from datalib import Data, flag_to_species\n",
    "from scipy.ndimage import gaussian_filter1d"
   ]
  },
  {
   "cell_type": "code",
   "execution_count": 6,
   "metadata": {},
   "outputs": [
    {
     "name": "stdout",
     "output_type": "stream",
     "text": [
      "fld keys are: ['B1', 'B2', 'B3', 'B_sqr', 'E1', 'E2', 'E3', 'E_sqr', 'J1', 'J2', 'J3', 'Rho_e', 'Rho_p', 'divB', 'divE', 'flux', 'flux_e1', 'flux_e2', 'flux_e3', 'flux_e4', 'flux_p1', 'flux_p2', 'flux_p3', 'flux_p4', 'step', 'stress_e1', 'stress_e10', 'stress_e2', 'stress_e3', 'stress_e4', 'stress_e5', 'stress_e6', 'stress_e7', 'stress_e8', 'stress_e9', 'stress_p1', 'stress_p10', 'stress_p2', 'stress_p3', 'stress_p4', 'stress_p5', 'stress_p6', 'stress_p7', 'stress_p8', 'stress_p9', 'time', 'B', 'J']\n",
      "ptc keys are: ['step', 'time', 'tracked_ptc_E', 'tracked_ptc_flag', 'tracked_ptc_id', 'tracked_ptc_p1', 'tracked_ptc_p2', 'tracked_ptc_p3', 'tracked_ptc_weight', 'tracked_ptc_x1', 'tracked_ptc_x2', 'tracked_ptc_x3']\n",
      "{'log_level': 0, 'num_species': 2, 'ion_mass': 1.0, 'max_ptc_num': 1000000, 'max_ph_num': 1000, 'ptc_buffer_size': 500000, 'ptc_segment_size': 100000, 'max_tracked_num': 1000000, 'dt': 0.002, 'q_e': 1.0, 'current_smoothing': 1, 'use_pml': True, 'max_steps': 16000, 'fld_output_interval': 100, 'ptc_output_interval': 100, 'tracked_fraction': 0.1, 'snapshot_interval': 10000, 'sort_interval': 11, 'N': [256], 'ranks': [4], 'guard': [3], 'lower': [0.0], 'size': [1.0], 'periodic_boundary': [True], 'damping_boundary': [False, False], 'pml_length': 10, 'downsample': 1, 'rho_b': 1.0, 'rho_0': 1.0, 'p0': 0.15, 'T_b': 0.0001, 'multiplicity': 50}\n",
      "160\n"
     ]
    }
   ],
   "source": [
    "# This loads the data from the target directory into python\n",
    "data = Data('../problems/two_stream/bin/Data/')\n",
    "print(data.conf)\n",
    "print(data.fld_steps[-1])"
   ]
  },
  {
   "cell_type": "code",
   "execution_count": 7,
   "metadata": {},
   "outputs": [
    {
     "name": "stdout",
     "output_type": "stream",
     "text": [
      "fld keys are: ['B1', 'B2', 'B3', 'B_sqr', 'E1', 'E2', 'E3', 'E_sqr', 'J1', 'J2', 'J3', 'Rho_e', 'Rho_p', 'divB', 'divE', 'flux', 'flux_e1', 'flux_e2', 'flux_e3', 'flux_e4', 'flux_p1', 'flux_p2', 'flux_p3', 'flux_p4', 'step', 'stress_e1', 'stress_e10', 'stress_e2', 'stress_e3', 'stress_e4', 'stress_e5', 'stress_e6', 'stress_e7', 'stress_e8', 'stress_e9', 'stress_p1', 'stress_p10', 'stress_p2', 'stress_p3', 'stress_p4', 'stress_p5', 'stress_p6', 'stress_p7', 'stress_p8', 'stress_p9', 'time', 'B', 'J']\n",
      "ptc keys are: ['step', 'time', 'tracked_ptc_E', 'tracked_ptc_flag', 'tracked_ptc_id', 'tracked_ptc_p1', 'tracked_ptc_p2', 'tracked_ptc_p3', 'tracked_ptc_weight', 'tracked_ptc_x1', 'tracked_ptc_x2', 'tracked_ptc_x3']\n",
      "31.999999999993143\n",
      "(5098,)\n",
      "[3.1210706e-03 6.5453030e-04 5.2324743e-03 ... 7.5045854e-01 7.5024354e-01\n",
      " 7.5005454e-01]\n"
     ]
    },
    {
     "data": {
      "text/plain": [
       "Text(0.7, 1.05, '$t = 32.00$')"
      ]
     },
     "execution_count": 7,
     "metadata": {},
     "output_type": "execute_result"
    },
    {
     "data": {
      "image/png": "[encoded data removed]",
      "text/plain": [
       "<Figure size 1000x600 with 1 Axes>"
      ]
     },
     "metadata": {},
     "output_type": "display_data"
    }
   ],
   "source": [
    "# We would like to plot the electron phase space distribution of the last output timestep\n",
    "data.reload()\n",
    "step = data.ptc_steps[-1]\n",
    "# step = 40\n",
    "data.load(step)\n",
    "print(data.time)\n",
    "\n",
    "tick_size = 16\n",
    "label_size = 24\n",
    "\n",
    "fig, ax = plt.subplots(1, 1)\n",
    "fig.set_size_inches(10.0, 6.0)\n",
    "fig.patch.set_facecolor('w')\n",
    "\n",
    "print(data.tracked_ptc_p1.shape)\n",
    "e_x1 = data.tracked_ptc_x1[flag_to_species(data.tracked_ptc_flag) == 0]\n",
    "e_p1 = data.tracked_ptc_p1[flag_to_species(data.tracked_ptc_flag) == 0]\n",
    "p_x1 = data.tracked_ptc_x1[flag_to_species(data.tracked_ptc_flag) == 1]\n",
    "p_p1 = data.tracked_ptc_p1[flag_to_species(data.tracked_ptc_flag) == 1]\n",
    "print(e_x1)\n",
    "ax.hist2d(e_x1, e_p1, bins=200)\n",
    "\n",
    "ax.tick_params(labelsize=tick_size)\n",
    "ax.set_xlabel(r'$x$', fontsize=label_size)\n",
    "ax.set_ylabel(r'$p_x$', fontsize=label_size)\n",
    "ax.text(0.7, 1.05, f'$t = {data.time:.2f}$',transform=ax.transAxes,\n",
    "        fontsize=label_size)"
   ]
  },
  {
   "cell_type": "code",
   "execution_count": 8,
   "metadata": {},
   "outputs": [
    {
     "name": "stdout",
     "output_type": "stream",
     "text": [
      "fld keys are: ['B1', 'B2', 'B3', 'B_sqr', 'E1', 'E2', 'E3', 'E_sqr', 'J1', 'J2', 'J3', 'Rho_e', 'Rho_p', 'divB', 'divE', 'flux', 'flux_e1', 'flux_e2', 'flux_e3', 'flux_e4', 'flux_p1', 'flux_p2', 'flux_p3', 'flux_p4', 'step', 'stress_e1', 'stress_e10', 'stress_e2', 'stress_e3', 'stress_e4', 'stress_e5', 'stress_e6', 'stress_e7', 'stress_e8', 'stress_e9', 'stress_p1', 'stress_p10', 'stress_p2', 'stress_p3', 'stress_p4', 'stress_p5', 'stress_p6', 'stress_p7', 'stress_p8', 'stress_p9', 'time', 'B', 'J']\n",
      "ptc keys are: ['step', 'time', 'tracked_ptc_E', 'tracked_ptc_flag', 'tracked_ptc_id', 'tracked_ptc_p1', 'tracked_ptc_p2', 'tracked_ptc_p3', 'tracked_ptc_weight', 'tracked_ptc_x1', 'tracked_ptc_x2', 'tracked_ptc_x3']\n"
     ]
    }
   ],
   "source": [
    "# This loop plots electron phase space for all output time steps, and save the plots in the \"python/plots/\" directory\n",
    "if not os.path.exists(\"plots\"):\n",
    "    os.makedirs(\"plots\")\n",
    "\n",
    "tick_size = 16\n",
    "label_size = 24\n",
    "data.reload()\n",
    "for step in data.fld_steps:\n",
    "    fig, ax = plt.subplots(1, 1)\n",
    "    fig.set_size_inches(10.0, 6.0)\n",
    "    fig.patch.set_facecolor('w')\n",
    "\n",
    "    data.load(step)\n",
    "    \n",
    "    e_x1 = data.tracked_ptc_x1[flag_to_species(data.tracked_ptc_flag) == 0]\n",
    "    e_p1 = data.tracked_ptc_p1[flag_to_species(data.tracked_ptc_flag) == 0]\n",
    "    ax.hist2d(e_x1, e_p1, bins=200, rasterized=True)\n",
    "\n",
    "    ax.tick_params(labelsize=tick_size)\n",
    "    ax.set_xlabel(r'$x$', fontsize=label_size)\n",
    "    ax.set_ylabel(r'$p_x$', fontsize=label_size)\n",
    "    \n",
    "    ax.text(0.7, 1.05, f'$t = {data.time:.2f}$',transform=ax.transAxes,\n",
    "            fontsize=label_size)\n",
    "    fig.savefig(f'plots/{step:05d}.png')\n",
    "    plt.close(fig)"
   ]
  },
  {
   "cell_type": "code",
   "execution_count": 9,
   "metadata": {},
   "outputs": [
    {
     "name": "stdout",
     "output_type": "stream",
     "text": [
      "fld keys are: ['B1', 'B2', 'B3', 'B_sqr', 'E1', 'E2', 'E3', 'E_sqr', 'J1', 'J2', 'J3', 'Rho_e', 'Rho_p', 'divB', 'divE', 'flux', 'flux_e1', 'flux_e2', 'flux_e3', 'flux_e4', 'flux_p1', 'flux_p2', 'flux_p3', 'flux_p4', 'step', 'stress_e1', 'stress_e10', 'stress_e2', 'stress_e3', 'stress_e4', 'stress_e5', 'stress_e6', 'stress_e7', 'stress_e8', 'stress_e9', 'stress_p1', 'stress_p10', 'stress_p2', 'stress_p3', 'stress_p4', 'stress_p5', 'stress_p6', 'stress_p7', 'stress_p8', 'stress_p9', 'time', 'B', 'J']\n",
      "ptc keys are: ['step', 'time', 'tracked_ptc_E', 'tracked_ptc_flag', 'tracked_ptc_id', 'tracked_ptc_p1', 'tracked_ptc_p2', 'tracked_ptc_p3', 'tracked_ptc_weight', 'tracked_ptc_x1', 'tracked_ptc_x2', 'tracked_ptc_x3']\n",
      "1.0111874208078342\n",
      "km is  4.059836517374186\n",
      "omega_p is 1.0\n",
      "0 0.0 0.001573212561197579\n",
      "1 0.20000000000000015 0.04461589828133583\n",
      "2 0.4000000000000003 0.06358020007610321\n",
      "3 0.6000000000000004 0.07502330839633942\n",
      "4 0.8000000000000006 0.09591054916381836\n",
      "5 1.0000000000000007 0.10776972770690918\n",
      "6 1.2000000000000008 0.1059827134013176\n",
      "7 1.400000000000001 0.102045439183712\n",
      "8 1.6000000000000012 0.10884508490562439\n",
      "9 1.8000000000000014 0.11824309080839157\n",
      "10 2.0000000000000013 0.10744381695985794\n",
      "11 2.1999999999999793 0.10041853040456772\n",
      "12 2.3999999999999573 0.09971101582050323\n",
      "13 2.5999999999999353 0.09020881354808807\n",
      "14 2.7999999999999132 0.10664848983287811\n",
      "15 2.999999999999891 0.10639898478984833\n",
      "16 3.199999999999869 0.10667599737644196\n",
      "17 3.399999999999847 0.11659210175275803\n",
      "18 3.599999999999825 0.11815652251243591\n",
      "19 3.799999999999803 0.13477936387062073\n",
      "20 3.999999999999781 0.14053770899772644\n",
      "21 4.1999999999997595 0.14538708329200745\n",
      "22 4.3999999999997375 0.13683989644050598\n",
      "23 4.599999999999715 0.13083022832870483\n",
      "24 4.799999999999693 0.14213481545448303\n",
      "25 4.999999999999671 0.14470744132995605\n",
      "26 5.199999999999649 0.14183877408504486\n",
      "27 5.399999999999627 0.1503574252128601\n",
      "28 5.599999999999605 0.14906886219978333\n",
      "29 5.799999999999583 0.1624726951122284\n",
      "30 5.999999999999561 0.142235666513443\n",
      "31 6.199999999999539 0.16584062576293945\n",
      "32 6.399999999999517 0.1677640676498413\n",
      "33 6.599999999999495 0.17921841144561768\n",
      "34 6.799999999999473 0.18472057580947876\n",
      "35 6.999999999999451 0.19750885665416718\n",
      "36 7.199999999999429 0.21168158948421478\n",
      "37 7.399999999999407 0.23435643315315247\n",
      "38 7.599999999999385 0.26087844371795654\n",
      "39 7.799999999999363 0.28060996532440186\n",
      "40 7.999999999999341 0.31932440400123596\n",
      "41 8.199999999999408 0.3532848656177521\n",
      "42 8.399999999999475 0.389929860830307\n",
      "43 8.599999999999541 0.4263504147529602\n",
      "44 8.799999999999608 0.4742533266544342\n",
      "45 8.999999999999675 0.5192511081695557\n",
      "46 9.199999999999742 0.5613675117492676\n",
      "47 9.399999999999809 0.611025869846344\n",
      "48 9.599999999999875 0.6634960174560547\n",
      "49 9.799999999999942 0.7193077802658081\n",
      "50 10.000000000000009 0.7943135499954224\n",
      "51 10.200000000000076 0.8670874834060669\n",
      "52 10.400000000000142 0.9603856801986694\n",
      "53 10.60000000000021 1.055541753768921\n",
      "54 10.800000000000276 1.1691502332687378\n",
      "55 11.000000000000343 1.3110971450805664\n",
      "56 11.20000000000041 1.4490609169006348\n",
      "57 11.400000000000476 1.6002553701400757\n",
      "58 11.600000000000543 1.7658674716949463\n",
      "59 11.80000000000061 1.9443349838256836\n",
      "60 12.000000000000677 2.141014337539673\n",
      "61 12.200000000000744 2.3492684364318848\n",
      "62 12.40000000000081 2.580512285232544\n",
      "63 12.600000000000877 2.8332161903381348\n",
      "64 12.800000000000944 3.1198763847351074\n",
      "65 13.00000000000101 3.4353840351104736\n",
      "66 13.200000000001078 3.7709250450134277\n",
      "67 13.400000000001144 4.135964870452881\n",
      "68 13.600000000001211 4.561458110809326\n",
      "69 13.800000000001278 5.016729831695557\n",
      "70 14.000000000001345 5.514838218688965\n",
      "71 14.200000000001411 6.062763214111328\n",
      "72 14.400000000001478 6.672060012817383\n",
      "73 14.600000000001545 7.318055152893066\n",
      "74 14.800000000001612 8.012779235839844\n",
      "75 15.000000000001679 8.759325981140137\n",
      "76 15.200000000001745 9.558351516723633\n",
      "77 15.400000000001812 10.389333724975586\n",
      "78 15.600000000001879 11.284207344055176\n",
      "79 15.800000000001946 12.222736358642578\n",
      "80 16.00000000000201 13.192187309265137\n",
      "81 16.2000000000019 14.184921264648438\n",
      "82 16.40000000000179 15.170308113098145\n",
      "83 16.60000000000168 16.156160354614258\n",
      "84 16.800000000001567 17.089920043945312\n",
      "85 17.000000000001457 17.9505672454834\n",
      "86 17.200000000001346 18.678874969482422\n",
      "87 17.400000000001235 19.26666259765625\n",
      "88 17.600000000001124 19.85391616821289\n",
      "89 17.800000000001013 20.49313735961914\n",
      "90 18.000000000000902 21.085010528564453\n",
      "91 18.20000000000079 21.57952308654785\n",
      "92 18.40000000000068 21.689226150512695\n",
      "93 18.60000000000057 21.031503677368164\n",
      "94 18.80000000000046 19.365257263183594\n",
      "95 19.000000000000348 16.952035903930664\n",
      "96 19.200000000000237 14.512210845947266\n",
      "97 19.400000000000126 12.74051284790039\n",
      "98 19.600000000000016 12.137741088867188\n",
      "99 19.799999999999905 12.821199417114258\n",
      "100 19.999999999999794 14.417936325073242\n",
      "101 20.199999999999683 16.501953125\n",
      "102 20.399999999999572 18.53348159790039\n",
      "103 20.59999999999946 20.084115982055664\n",
      "104 20.79999999999935 20.93524932861328\n",
      "105 20.99999999999924 20.843475341796875\n",
      "106 21.19999999999913 19.245359420776367\n",
      "107 21.399999999999018 16.652645111083984\n",
      "108 21.599999999998907 13.725948333740234\n",
      "109 21.799999999998796 10.848428726196289\n",
      "110 21.999999999998685 8.344252586364746\n",
      "111 22.199999999998575 6.448330879211426\n",
      "112 22.399999999998464 5.589569568634033\n",
      "113 22.599999999998353 5.740800857543945\n",
      "114 22.799999999998242 6.63158655166626\n",
      "115 22.99999999999813 8.381120681762695\n",
      "116 23.19999999999802 10.919391632080078\n",
      "117 23.39999999999791 14.163331985473633\n",
      "118 23.5999999999978 17.853622436523438\n",
      "119 23.799999999997688 21.584808349609375\n",
      "120 23.999999999997577 24.805145263671875\n",
      "121 24.199999999997466 26.994178771972656\n",
      "122 24.399999999997355 27.933679580688477\n",
      "123 24.599999999997245 27.54029083251953\n",
      "124 24.799999999997134 25.96358871459961\n",
      "125 24.999999999997023 23.48235321044922\n",
      "126 25.199999999996912 20.431087493896484\n",
      "127 25.3999999999968 18.1627140045166\n",
      "128 25.59999999999669 17.355972290039062\n",
      "129 25.79999999999658 16.752788543701172\n",
      "130 25.99999999999647 15.194707870483398\n",
      "131 26.199999999996358 12.334701538085938\n",
      "132 26.399999999996247 9.992670059204102\n",
      "133 26.599999999996136 8.442853927612305\n",
      "134 26.799999999996025 8.254396438598633\n",
      "135 26.999999999995914 10.42330551147461\n",
      "136 27.199999999995804 14.516586303710938\n",
      "137 27.399999999995693 17.408693313598633\n",
      "138 27.599999999995582 17.84327507019043\n",
      "139 27.79999999999547 16.269088745117188\n",
      "140 27.99999999999536 13.606500625610352\n",
      "141 28.19999999999525 10.084039688110352\n",
      "142 28.39999999999514 6.050141334533691\n",
      "143 28.599999999995028 2.488901376724243\n",
      "144 28.799999999994917 2.7122015953063965\n",
      "145 28.999999999994806 4.9591779708862305\n",
      "146 29.199999999994695 6.174785614013672\n",
      "147 29.399999999994584 5.641247749328613\n",
      "148 29.599999999994473 3.3133373260498047\n",
      "149 29.799999999994363 2.2513298988342285\n",
      "150 29.99999999999425 5.063104629516602\n",
      "151 30.19999999999414 8.854969024658203\n",
      "152 30.39999999999403 12.205000877380371\n",
      "153 30.59999999999392 13.919088363647461\n",
      "154 30.79999999999381 13.878540992736816\n",
      "155 30.999999999993697 12.296407699584961\n",
      "156 31.199999999993587 9.74059009552002\n",
      "157 31.399999999993476 6.632957458496094\n",
      "158 31.599999999993365 3.202014923095703\n",
      "159 31.799999999993254 0.9020398855209351\n",
      "160 31.999999999993143 2.1418912410736084\n"
     ]
    }
   ],
   "source": [
    "# growth rate\n",
    "data.reload()\n",
    "UE = np.zeros(len(data.fld_steps))\n",
    "ts = np.zeros_like(UE)\n",
    "gamma = np.sqrt(1.0 + data.conf['p0']**2)\n",
    "print(gamma)\n",
    "km = np.sqrt(3.0/8.0/gamma)/data.conf['p0']\n",
    "print(\"km is \", km)\n",
    "omega_p = np.sqrt(data.conf[\"rho_b\"])\n",
    "print(\"omega_p is\", omega_p)\n",
    "for step in data.fld_steps:\n",
    "    data.load_fld(step)\n",
    "    UE[step] = np.sum(np.sqrt(data.E1**2))\n",
    "    ts[step] = data.time * omega_p\n",
    "    print(step, ts[step], UE[step])"
   ]
  },
  {
   "cell_type": "code",
   "execution_count": 10,
   "metadata": {},
   "outputs": [
    {
     "name": "stdout",
     "output_type": "stream",
     "text": [
      "0.4917252579516861 1.0111874208078342\n",
      "0.15\n"
     ]
    },
    {
     "data": {
      "image/png": "[encoded data removed]",
      "text/plain": [
       "<Figure size 1000x600 with 1 Axes>"
      ]
     },
     "metadata": {},
     "output_type": "display_data"
    }
   ],
   "source": [
    "tick_size = 25\n",
    "label_size = 30\n",
    "\n",
    "fig, ax = plt.subplots(1, 1)\n",
    "fig.set_size_inches(10.0, 6.0)\n",
    "fig.patch.set_facecolor('w')\n",
    "\n",
    "ax.plot(ts, UE)\n",
    "ax.set_yscale('log')\n",
    "# ax.set_xlim(1,20)\n",
    "# ax.set_ylim(1e-1, 1e3)\n",
    "\n",
    "rate = 1.0 / (2.0 * np.sqrt(gamma**3))\n",
    "print(rate, np.sqrt(1.0 + data.conf['p0']**2))\n",
    "ys = 4.5e-2 * np.exp((ts-0) * rate)\n",
    "ax.plot(ts, ys, '--')\n",
    "print(data.conf['p0'])"
   ]
  },
  {
   "cell_type": "code",
   "execution_count": null,
   "metadata": {},
   "outputs": [],
   "source": []
  }
 ],
 "metadata": {
  "kernelspec": {
   "display_name": "Python 3 (ipykernel)",
   "language": "python",
   "name": "python3"
  },
  "language_info": {
   "codemirror_mode": {
    "name": "ipython",
    "version": 3
   },
   "file_extension": ".py",
   "mimetype": "text/x-python",
   "name": "python",
   "nbconvert_exporter": "python",
   "pygments_lexer": "ipython3",
   "version": "3.10.9"
  },
  "orig_nbformat": 4,
  "vscode": {
   "interpreter": {
    "hash": "e7370f93d1d0cde622a1f8e1c04877d8463912d04d973331ad4851f04de6915a"
   }
  }
 },
 "nbformat": 4,
 "nbformat_minor": 2
}
